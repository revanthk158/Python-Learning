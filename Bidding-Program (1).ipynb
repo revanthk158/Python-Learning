{
 "cells": [
  {
   "cell_type": "code",
   "execution_count": 28,
   "id": "7877bd90",
   "metadata": {},
   "outputs": [],
   "source": [
    "auction = {} # empty dictionary to add names & bidding prices"
   ]
  },
  {
   "cell_type": "code",
   "execution_count": 31,
   "id": "e07a60b3",
   "metadata": {},
   "outputs": [
    {
     "name": "stdout",
     "output_type": "stream",
     "text": [
      "What is the Bidder's Name?Revanth\n",
      "What is the Bidding Price?150\n",
      "Do You Want to Continue the bid? 'Yes' or 'No'Yes\n",
      "What is the Bidder's Name?Hemanth\n",
      "What is the Bidding Price?210\n",
      "Do You Want to Continue the bid? 'Yes' or 'No'Yes\n",
      "What is the Bidder's Name?Dinesh\n",
      "What is the Bidding Price?115\n",
      "Do You Want to Continue the bid? 'Yes' or 'No'Yes\n",
      "What is the Bidder's Name?Yashwanth\n",
      "What is the Bidding Price?300\n",
      "Do You Want to Continue the bid? 'Yes' or 'No'Yes\n",
      "What is the Bidder's Name?Prakash\n",
      "What is the Bidding Price?500\n",
      "Do You Want to Continue the bid? 'Yes' or 'No'Yes\n",
      "What is the Bidder's Name?Prasad\n",
      "What is the Bidding Price?450\n",
      "Do You Want to Continue the bid? 'Yes' or 'No'Yes\n",
      "What is the Bidder's Name?Paul\n",
      "What is the Bidding Price?350\n",
      "Do You Want to Continue the bid? 'Yes' or 'No'No\n",
      "The Highest Bidder is Prakash with highest bid amount of 500\n"
     ]
    }
   ],
   "source": [
    "start_bid = True # Initialization of a loop for entering bid amounts into a dictionary\n",
    "\n",
    "# Below while loop takes names of bidders & their bidding prices until no more bidders are present\n",
    "\n",
    "while start_bid == True:\n",
    "    name = input(\"What is the Bidder's Name?\")\n",
    "    bid_price = int(input('What is the Bidding Price?'))\n",
    "    auction[name] = bid_price\n",
    "    continue_bid = input(\"Do You Want to Continue the bid? 'Yes' or 'No'\")\n",
    "    if continue_bid == 'Yes':\n",
    "        start_bid = True # Bidding starts all over again\n",
    "    else:\n",
    "        start_bid = False # Bidding stops\n",
    "\n",
    "        \n",
    "# Below code over-writes highest bid amount in high_bid variable\n",
    "        \n",
    "high_bid = 0\n",
    "name_bidder = \"\"\n",
    "\n",
    "for i in auction:\n",
    "    if auction[i] > high_bid:\n",
    "        high_bid = auction[i]\n",
    "        name_bidder = i\n",
    "\n",
    "print(f\"The Highest Bidder is {name_bidder} with highest bid amount of {high_bid}\")"
   ]
  },
  {
   "cell_type": "code",
   "execution_count": null,
   "id": "263e8473",
   "metadata": {},
   "outputs": [],
   "source": []
  }
 ],
 "metadata": {
  "kernelspec": {
   "display_name": "Python 3 (ipykernel)",
   "language": "python",
   "name": "python3"
  },
  "language_info": {
   "codemirror_mode": {
    "name": "ipython",
    "version": 3
   },
   "file_extension": ".py",
   "mimetype": "text/x-python",
   "name": "python",
   "nbconvert_exporter": "python",
   "pygments_lexer": "ipython3",
   "version": "3.9.7"
  }
 },
 "nbformat": 4,
 "nbformat_minor": 5
}
