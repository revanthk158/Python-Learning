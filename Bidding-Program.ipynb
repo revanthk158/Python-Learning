{
 "cells": [
  {
   "cell_type": "code",
   "execution_count": 1,
   "id": "acb0aa91",
   "metadata": {},
   "outputs": [],
   "source": [
    "auction = {}"
   ]
  },
  {
   "cell_type": "code",
   "execution_count": 2,
   "id": "2061470b",
   "metadata": {},
   "outputs": [
    {
     "name": "stdout",
     "output_type": "stream",
     "text": [
      "What is Bidder's name?Revanth\n",
      "What is bidding price? 130\n",
      "Are there any other bidders 'Yes' or 'No'Yes\n",
      "What is Bidder's name?Hemanth\n",
      "What is bidding price? 150\n",
      "Are there any other bidders 'Yes' or 'No'Dinesh\n",
      "The Highest Bidder is Hemanth\n"
     ]
    }
   ],
   "source": [
    "start_bid = True\n",
    "while start_bid == True:\n",
    "    name = input(\"What is Bidder's name?\")\n",
    "    bid_price = int(input('What is bidding price? '))\n",
    "    auction[name] = bid_price\n",
    "    cnt_bid = input(\"Are there any other bidders 'Yes' or 'No'\")\n",
    "    if cnt_bid == 'Yes':\n",
    "        start_bid\n",
    "    else:\n",
    "        start_bid = False\n",
    "\n",
    "print(\"The Highest Bidder is \"+ max(auction, key = auction.get))"
   ]
  },
  {
   "cell_type": "code",
   "execution_count": null,
   "id": "3d8527fb",
   "metadata": {},
   "outputs": [],
   "source": []
  }
 ],
 "metadata": {
  "kernelspec": {
   "display_name": "Python 3 (ipykernel)",
   "language": "python",
   "name": "python3"
  },
  "language_info": {
   "codemirror_mode": {
    "name": "ipython",
    "version": 3
   },
   "file_extension": ".py",
   "mimetype": "text/x-python",
   "name": "python",
   "nbconvert_exporter": "python",
   "pygments_lexer": "ipython3",
   "version": "3.9.7"
  }
 },
 "nbformat": 4,
 "nbformat_minor": 5
}
