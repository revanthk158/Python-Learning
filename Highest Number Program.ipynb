{
 "cells": [
  {
   "cell_type": "code",
   "execution_count": 1,
   "id": "24d00cc6",
   "metadata": {},
   "outputs": [],
   "source": [
    "# Highest Number Program : "
   ]
  },
  {
   "cell_type": "code",
   "execution_count": 2,
   "id": "114daf9f",
   "metadata": {},
   "outputs": [],
   "source": [
    "# Here is a program to create a list of random numbers:"
   ]
  },
  {
   "cell_type": "code",
   "execution_count": 3,
   "id": "70f9f26f",
   "metadata": {},
   "outputs": [],
   "source": [
    "import random # Using Random Package to import a random number "
   ]
  },
  {
   "cell_type": "code",
   "execution_count": 4,
   "id": "ae4d2771",
   "metadata": {},
   "outputs": [],
   "source": [
    "rand_lst = [] # Intialized an empty list to append randomly generated numbers from random package"
   ]
  },
  {
   "cell_type": "code",
   "execution_count": 5,
   "id": "602f1b76",
   "metadata": {},
   "outputs": [],
   "source": [
    "for i in range(1,100):\n",
    "    rand_lst.append(random.randint(1,300))"
   ]
  },
  {
   "cell_type": "code",
   "execution_count": 6,
   "id": "3f60f3be",
   "metadata": {},
   "outputs": [],
   "source": [
    "high_num = 0 #Initialized a highest number to over write it every time we find a larger number"
   ]
  },
  {
   "cell_type": "code",
   "execution_count": 7,
   "id": "7a37d3a2",
   "metadata": {},
   "outputs": [
    {
     "name": "stdout",
     "output_type": "stream",
     "text": [
      "The Highest Number is 297\n"
     ]
    }
   ],
   "source": [
    "for i in rand_lst:\n",
    "    if i > high_num:\n",
    "        high_num = i # over_writing highest number with highest number in the list\n",
    "        \n",
    "print(f\"The Highest Number is {high_num}\")"
   ]
  },
  {
   "cell_type": "code",
   "execution_count": 8,
   "id": "09cca104",
   "metadata": {},
   "outputs": [
    {
     "data": {
      "text/plain": [
       "297"
      ]
     },
     "execution_count": 8,
     "metadata": {},
     "output_type": "execute_result"
    }
   ],
   "source": [
    "max(rand_lst)"
   ]
  },
  {
   "cell_type": "code",
   "execution_count": null,
   "id": "aa785888",
   "metadata": {},
   "outputs": [],
   "source": []
  }
 ],
 "metadata": {
  "kernelspec": {
   "display_name": "Python 3 (ipykernel)",
   "language": "python",
   "name": "python3"
  },
  "language_info": {
   "codemirror_mode": {
    "name": "ipython",
    "version": 3
   },
   "file_extension": ".py",
   "mimetype": "text/x-python",
   "name": "python",
   "nbconvert_exporter": "python",
   "pygments_lexer": "ipython3",
   "version": "3.9.7"
  }
 },
 "nbformat": 4,
 "nbformat_minor": 5
}
